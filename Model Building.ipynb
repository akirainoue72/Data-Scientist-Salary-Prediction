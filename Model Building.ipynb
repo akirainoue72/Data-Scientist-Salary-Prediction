{
 "cells": [
  {
   "cell_type": "markdown",
   "id": "9c421994",
   "metadata": {},
   "source": [
    "## Plan:\n",
    "\n",
    "- Get rid of unnecessary columns \n",
    "\n",
    "- Create a final df to use for model building\n",
    "\n",
    "- Feature engineering\n",
    "\n",
    "- Model Building using linear regression, lasso regression, random forest\n",
    "\n",
    "- Model tuning using GridSearch"
   ]
  },
  {
   "cell_type": "code",
   "execution_count": 2,
   "id": "722f5511",
   "metadata": {},
   "outputs": [],
   "source": [
    "import numpy as np\n",
    "import pandas as pd\n",
    "import matplotlib.pyplot as plt"
   ]
  },
  {
   "cell_type": "code",
   "execution_count": 3,
   "id": "22a97ec1",
   "metadata": {},
   "outputs": [
    {
     "data": {
      "text/html": [
       "<div>\n",
       "<style scoped>\n",
       "    .dataframe tbody tr th:only-of-type {\n",
       "        vertical-align: middle;\n",
       "    }\n",
       "\n",
       "    .dataframe tbody tr th {\n",
       "        vertical-align: top;\n",
       "    }\n",
       "\n",
       "    .dataframe thead th {\n",
       "        text-align: right;\n",
       "    }\n",
       "</style>\n",
       "<table border=\"1\" class=\"dataframe\">\n",
       "  <thead>\n",
       "    <tr style=\"text-align: right;\">\n",
       "      <th></th>\n",
       "      <th>Unnamed: 0</th>\n",
       "      <th>Job Title</th>\n",
       "      <th>Salary Estimate</th>\n",
       "      <th>Job Description</th>\n",
       "      <th>Rating</th>\n",
       "      <th>Company Name</th>\n",
       "      <th>Location</th>\n",
       "      <th>Headquarters</th>\n",
       "      <th>Size</th>\n",
       "      <th>Founded</th>\n",
       "      <th>...</th>\n",
       "      <th>Age</th>\n",
       "      <th>python_yn</th>\n",
       "      <th>rstudio_yn</th>\n",
       "      <th>SQL_yn</th>\n",
       "      <th>spark_yn</th>\n",
       "      <th>aws_yn</th>\n",
       "      <th>job_simp</th>\n",
       "      <th>seniority</th>\n",
       "      <th>job_desc</th>\n",
       "      <th>num_comp</th>\n",
       "    </tr>\n",
       "  </thead>\n",
       "  <tbody>\n",
       "    <tr>\n",
       "      <th>0</th>\n",
       "      <td>0</td>\n",
       "      <td>Data Scientist</td>\n",
       "      <td>$53K-$91K (Glassdoor est.)</td>\n",
       "      <td>Data Scientist\\nLocation: Albuquerque, NM\\nEdu...</td>\n",
       "      <td>3.8</td>\n",
       "      <td>Tecolote Research\\n3.8</td>\n",
       "      <td>Albuquerque, NM</td>\n",
       "      <td>Goleta, CA</td>\n",
       "      <td>501 - 1000 employees</td>\n",
       "      <td>1973</td>\n",
       "      <td>...</td>\n",
       "      <td>48</td>\n",
       "      <td>1</td>\n",
       "      <td>0</td>\n",
       "      <td>0</td>\n",
       "      <td>0</td>\n",
       "      <td>0</td>\n",
       "      <td>data scientist</td>\n",
       "      <td>na</td>\n",
       "      <td>2536</td>\n",
       "      <td>0</td>\n",
       "    </tr>\n",
       "    <tr>\n",
       "      <th>1</th>\n",
       "      <td>1</td>\n",
       "      <td>Healthcare Data Scientist</td>\n",
       "      <td>$63K-$112K (Glassdoor est.)</td>\n",
       "      <td>What You Will Do:\\n\\nI. General Summary\\n\\nThe...</td>\n",
       "      <td>3.4</td>\n",
       "      <td>University of Maryland Medical System\\n3.4</td>\n",
       "      <td>Linthicum, MD</td>\n",
       "      <td>Baltimore, MD</td>\n",
       "      <td>10000+ employees</td>\n",
       "      <td>1984</td>\n",
       "      <td>...</td>\n",
       "      <td>37</td>\n",
       "      <td>1</td>\n",
       "      <td>0</td>\n",
       "      <td>0</td>\n",
       "      <td>0</td>\n",
       "      <td>0</td>\n",
       "      <td>data scientist</td>\n",
       "      <td>na</td>\n",
       "      <td>4783</td>\n",
       "      <td>0</td>\n",
       "    </tr>\n",
       "    <tr>\n",
       "      <th>2</th>\n",
       "      <td>2</td>\n",
       "      <td>Data Scientist</td>\n",
       "      <td>$80K-$90K (Glassdoor est.)</td>\n",
       "      <td>KnowBe4, Inc. is a high growth information sec...</td>\n",
       "      <td>4.8</td>\n",
       "      <td>KnowBe4\\n4.8</td>\n",
       "      <td>Clearwater, FL</td>\n",
       "      <td>Clearwater, FL</td>\n",
       "      <td>501 - 1000 employees</td>\n",
       "      <td>2010</td>\n",
       "      <td>...</td>\n",
       "      <td>11</td>\n",
       "      <td>1</td>\n",
       "      <td>0</td>\n",
       "      <td>1</td>\n",
       "      <td>1</td>\n",
       "      <td>0</td>\n",
       "      <td>data scientist</td>\n",
       "      <td>na</td>\n",
       "      <td>3461</td>\n",
       "      <td>0</td>\n",
       "    </tr>\n",
       "    <tr>\n",
       "      <th>3</th>\n",
       "      <td>3</td>\n",
       "      <td>Data Scientist</td>\n",
       "      <td>$56K-$97K (Glassdoor est.)</td>\n",
       "      <td>*Organization and Job ID**\\nJob ID: 310709\\n\\n...</td>\n",
       "      <td>3.8</td>\n",
       "      <td>PNNL\\n3.8</td>\n",
       "      <td>Richland, WA</td>\n",
       "      <td>Richland, WA</td>\n",
       "      <td>1001 - 5000 employees</td>\n",
       "      <td>1965</td>\n",
       "      <td>...</td>\n",
       "      <td>56</td>\n",
       "      <td>1</td>\n",
       "      <td>0</td>\n",
       "      <td>0</td>\n",
       "      <td>0</td>\n",
       "      <td>0</td>\n",
       "      <td>data scientist</td>\n",
       "      <td>na</td>\n",
       "      <td>3883</td>\n",
       "      <td>3</td>\n",
       "    </tr>\n",
       "    <tr>\n",
       "      <th>4</th>\n",
       "      <td>4</td>\n",
       "      <td>Data Scientist</td>\n",
       "      <td>$86K-$143K (Glassdoor est.)</td>\n",
       "      <td>Data Scientist\\nAffinity Solutions / Marketing...</td>\n",
       "      <td>2.9</td>\n",
       "      <td>Affinity Solutions\\n2.9</td>\n",
       "      <td>New York, NY</td>\n",
       "      <td>New York, NY</td>\n",
       "      <td>51 - 200 employees</td>\n",
       "      <td>1998</td>\n",
       "      <td>...</td>\n",
       "      <td>23</td>\n",
       "      <td>1</td>\n",
       "      <td>0</td>\n",
       "      <td>1</td>\n",
       "      <td>0</td>\n",
       "      <td>0</td>\n",
       "      <td>data scientist</td>\n",
       "      <td>na</td>\n",
       "      <td>2728</td>\n",
       "      <td>3</td>\n",
       "    </tr>\n",
       "  </tbody>\n",
       "</table>\n",
       "<p>5 rows × 33 columns</p>\n",
       "</div>"
      ],
      "text/plain": [
       "   Unnamed: 0                  Job Title              Salary Estimate  \\\n",
       "0           0             Data Scientist   $53K-$91K (Glassdoor est.)   \n",
       "1           1  Healthcare Data Scientist  $63K-$112K (Glassdoor est.)   \n",
       "2           2             Data Scientist   $80K-$90K (Glassdoor est.)   \n",
       "3           3             Data Scientist   $56K-$97K (Glassdoor est.)   \n",
       "4           4             Data Scientist  $86K-$143K (Glassdoor est.)   \n",
       "\n",
       "                                     Job Description  Rating  \\\n",
       "0  Data Scientist\\nLocation: Albuquerque, NM\\nEdu...     3.8   \n",
       "1  What You Will Do:\\n\\nI. General Summary\\n\\nThe...     3.4   \n",
       "2  KnowBe4, Inc. is a high growth information sec...     4.8   \n",
       "3  *Organization and Job ID**\\nJob ID: 310709\\n\\n...     3.8   \n",
       "4  Data Scientist\\nAffinity Solutions / Marketing...     2.9   \n",
       "\n",
       "                                 Company Name         Location  \\\n",
       "0                      Tecolote Research\\n3.8  Albuquerque, NM   \n",
       "1  University of Maryland Medical System\\n3.4    Linthicum, MD   \n",
       "2                                KnowBe4\\n4.8   Clearwater, FL   \n",
       "3                                   PNNL\\n3.8     Richland, WA   \n",
       "4                     Affinity Solutions\\n2.9     New York, NY   \n",
       "\n",
       "     Headquarters                   Size  Founded  ... Age python_yn  \\\n",
       "0      Goleta, CA   501 - 1000 employees     1973  ...  48         1   \n",
       "1   Baltimore, MD       10000+ employees     1984  ...  37         1   \n",
       "2  Clearwater, FL   501 - 1000 employees     2010  ...  11         1   \n",
       "3    Richland, WA  1001 - 5000 employees     1965  ...  56         1   \n",
       "4    New York, NY     51 - 200 employees     1998  ...  23         1   \n",
       "\n",
       "  rstudio_yn SQL_yn spark_yn  aws_yn        job_simp  seniority  job_desc  \\\n",
       "0          0      0        0       0  data scientist         na      2536   \n",
       "1          0      0        0       0  data scientist         na      4783   \n",
       "2          0      1        1       0  data scientist         na      3461   \n",
       "3          0      0        0       0  data scientist         na      3883   \n",
       "4          0      1        0       0  data scientist         na      2728   \n",
       "\n",
       "   num_comp  \n",
       "0         0  \n",
       "1         0  \n",
       "2         0  \n",
       "3         3  \n",
       "4         3  \n",
       "\n",
       "[5 rows x 33 columns]"
      ]
     },
     "execution_count": 3,
     "metadata": {},
     "output_type": "execute_result"
    }
   ],
   "source": [
    "df=pd.read_csv(\"data_cleaned.csv\")\n",
    "df.head()"
   ]
  },
  {
   "cell_type": "code",
   "execution_count": 4,
   "id": "c6a3334c",
   "metadata": {},
   "outputs": [
    {
     "data": {
      "text/plain": [
       "Index(['Unnamed: 0', 'Job Title', 'Salary Estimate', 'Job Description',\n",
       "       'Rating', 'Company Name', 'Location', 'Headquarters', 'Size', 'Founded',\n",
       "       'Type of ownership', 'Industry', 'Sector', 'Revenue', 'Competitors',\n",
       "       'hourly', 'Employer Provided', 'min_salary', 'max_salary', 'avg_salary',\n",
       "       'Company_text', 'States', 'same_state', 'Age', 'python_yn',\n",
       "       'rstudio_yn', 'SQL_yn', 'spark_yn', 'aws_yn', 'job_simp', 'seniority',\n",
       "       'job_desc', 'num_comp'],\n",
       "      dtype='object')"
      ]
     },
     "execution_count": 4,
     "metadata": {},
     "output_type": "execute_result"
    }
   ],
   "source": [
    "df.columns"
   ]
  },
  {
   "cell_type": "code",
   "execution_count": 48,
   "id": "63a113af",
   "metadata": {},
   "outputs": [
    {
     "data": {
      "text/plain": [
       "0               Aerospace & Defense\n",
       "1                       Health Care\n",
       "2                 Business Services\n",
       "3      Oil, Gas, Energy & Utilities\n",
       "4                 Business Services\n",
       "                   ...             \n",
       "737       Biotech & Pharmaceuticals\n",
       "738          Information Technology\n",
       "739                       Education\n",
       "740               Business Services\n",
       "741                      Government\n",
       "Name: Sector, Length: 742, dtype: object"
      ]
     },
     "execution_count": 48,
     "metadata": {},
     "output_type": "execute_result"
    }
   ],
   "source": [
    "df[\"Industry\"].astype(\"str\")\n",
    "df[\"Sector\"].astype(\"str\")"
   ]
  },
  {
   "cell_type": "code",
   "execution_count": 56,
   "id": "2f1e3756",
   "metadata": {},
   "outputs": [
    {
     "name": "stdout",
     "output_type": "stream",
     "text": [
      "<class 'pandas.core.frame.DataFrame'>\n",
      "RangeIndex: 742 entries, 0 to 741\n",
      "Data columns (total 33 columns):\n",
      " #   Column             Non-Null Count  Dtype  \n",
      "---  ------             --------------  -----  \n",
      " 0   Unnamed: 0         742 non-null    int64  \n",
      " 1   Job Title          742 non-null    object \n",
      " 2   Salary Estimate    742 non-null    object \n",
      " 3   Job Description    742 non-null    object \n",
      " 4   Rating             742 non-null    float64\n",
      " 5   Company Name       742 non-null    object \n",
      " 6   Location           742 non-null    object \n",
      " 7   Headquarters       742 non-null    object \n",
      " 8   Size               742 non-null    object \n",
      " 9   Founded            742 non-null    int64  \n",
      " 10  Type of ownership  742 non-null    object \n",
      " 11  Industry           742 non-null    object \n",
      " 12  Sector             742 non-null    object \n",
      " 13  Revenue            742 non-null    object \n",
      " 14  Competitors        742 non-null    object \n",
      " 15  hourly             742 non-null    int64  \n",
      " 16  Employer Provided  742 non-null    int64  \n",
      " 17  min_salary         742 non-null    int64  \n",
      " 18  max_salary         742 non-null    int64  \n",
      " 19  avg_salary         742 non-null    float64\n",
      " 20  Company_text       742 non-null    object \n",
      " 21  States             742 non-null    object \n",
      " 22  same_state         742 non-null    int64  \n",
      " 23  Age                742 non-null    int64  \n",
      " 24  python_yn          742 non-null    int64  \n",
      " 25  rstudio_yn         742 non-null    int64  \n",
      " 26  SQL_yn             742 non-null    int64  \n",
      " 27  spark_yn           742 non-null    int64  \n",
      " 28  aws_yn             742 non-null    int64  \n",
      " 29  job_simp           742 non-null    object \n",
      " 30  seniority          742 non-null    object \n",
      " 31  job_desc           742 non-null    int64  \n",
      " 32  num_comp           742 non-null    int64  \n",
      "dtypes: float64(2), int64(15), object(16)\n",
      "memory usage: 191.4+ KB\n"
     ]
    }
   ],
   "source": [
    "df.info()"
   ]
  },
  {
   "cell_type": "code",
   "execution_count": 61,
   "id": "09ea87b5",
   "metadata": {},
   "outputs": [
    {
     "data": {
      "text/html": [
       "<div>\n",
       "<style scoped>\n",
       "    .dataframe tbody tr th:only-of-type {\n",
       "        vertical-align: middle;\n",
       "    }\n",
       "\n",
       "    .dataframe tbody tr th {\n",
       "        vertical-align: top;\n",
       "    }\n",
       "\n",
       "    .dataframe thead th {\n",
       "        text-align: right;\n",
       "    }\n",
       "</style>\n",
       "<table border=\"1\" class=\"dataframe\">\n",
       "  <thead>\n",
       "    <tr style=\"text-align: right;\">\n",
       "      <th></th>\n",
       "      <th>Rating</th>\n",
       "      <th>hourly</th>\n",
       "      <th>Size</th>\n",
       "      <th>Type of ownership</th>\n",
       "      <th>Revenue</th>\n",
       "      <th>Employer Provided</th>\n",
       "      <th>States</th>\n",
       "      <th>same_state</th>\n",
       "      <th>python_yn</th>\n",
       "      <th>rstudio_yn</th>\n",
       "      <th>SQL_yn</th>\n",
       "      <th>spark_yn</th>\n",
       "      <th>aws_yn</th>\n",
       "      <th>job_simp</th>\n",
       "      <th>seniority</th>\n",
       "      <th>job_desc</th>\n",
       "      <th>num_comp</th>\n",
       "      <th>avg_salary</th>\n",
       "    </tr>\n",
       "  </thead>\n",
       "  <tbody>\n",
       "    <tr>\n",
       "      <th>0</th>\n",
       "      <td>3.8</td>\n",
       "      <td>0</td>\n",
       "      <td>501 - 1000 employees</td>\n",
       "      <td>Company - Private</td>\n",
       "      <td>$50 to $100 million (USD)</td>\n",
       "      <td>0</td>\n",
       "      <td>NM</td>\n",
       "      <td>0</td>\n",
       "      <td>1</td>\n",
       "      <td>0</td>\n",
       "      <td>0</td>\n",
       "      <td>0</td>\n",
       "      <td>0</td>\n",
       "      <td>data scientist</td>\n",
       "      <td>na</td>\n",
       "      <td>2536</td>\n",
       "      <td>0</td>\n",
       "      <td>72.0</td>\n",
       "    </tr>\n",
       "    <tr>\n",
       "      <th>1</th>\n",
       "      <td>3.4</td>\n",
       "      <td>0</td>\n",
       "      <td>10000+ employees</td>\n",
       "      <td>Other Organization</td>\n",
       "      <td>$2 to $5 billion (USD)</td>\n",
       "      <td>0</td>\n",
       "      <td>MD</td>\n",
       "      <td>0</td>\n",
       "      <td>1</td>\n",
       "      <td>0</td>\n",
       "      <td>0</td>\n",
       "      <td>0</td>\n",
       "      <td>0</td>\n",
       "      <td>data scientist</td>\n",
       "      <td>na</td>\n",
       "      <td>4783</td>\n",
       "      <td>0</td>\n",
       "      <td>87.5</td>\n",
       "    </tr>\n",
       "    <tr>\n",
       "      <th>2</th>\n",
       "      <td>4.8</td>\n",
       "      <td>0</td>\n",
       "      <td>501 - 1000 employees</td>\n",
       "      <td>Company - Private</td>\n",
       "      <td>$100 to $500 million (USD)</td>\n",
       "      <td>0</td>\n",
       "      <td>FL</td>\n",
       "      <td>1</td>\n",
       "      <td>1</td>\n",
       "      <td>0</td>\n",
       "      <td>1</td>\n",
       "      <td>1</td>\n",
       "      <td>0</td>\n",
       "      <td>data scientist</td>\n",
       "      <td>na</td>\n",
       "      <td>3461</td>\n",
       "      <td>0</td>\n",
       "      <td>85.0</td>\n",
       "    </tr>\n",
       "    <tr>\n",
       "      <th>3</th>\n",
       "      <td>3.8</td>\n",
       "      <td>0</td>\n",
       "      <td>1001 - 5000 employees</td>\n",
       "      <td>Government</td>\n",
       "      <td>$500 million to $1 billion (USD)</td>\n",
       "      <td>0</td>\n",
       "      <td>WA</td>\n",
       "      <td>1</td>\n",
       "      <td>1</td>\n",
       "      <td>0</td>\n",
       "      <td>0</td>\n",
       "      <td>0</td>\n",
       "      <td>0</td>\n",
       "      <td>data scientist</td>\n",
       "      <td>na</td>\n",
       "      <td>3883</td>\n",
       "      <td>3</td>\n",
       "      <td>76.5</td>\n",
       "    </tr>\n",
       "    <tr>\n",
       "      <th>4</th>\n",
       "      <td>2.9</td>\n",
       "      <td>0</td>\n",
       "      <td>51 - 200 employees</td>\n",
       "      <td>Company - Private</td>\n",
       "      <td>Unknown / Non-Applicable</td>\n",
       "      <td>0</td>\n",
       "      <td>NY</td>\n",
       "      <td>1</td>\n",
       "      <td>1</td>\n",
       "      <td>0</td>\n",
       "      <td>1</td>\n",
       "      <td>0</td>\n",
       "      <td>0</td>\n",
       "      <td>data scientist</td>\n",
       "      <td>na</td>\n",
       "      <td>2728</td>\n",
       "      <td>3</td>\n",
       "      <td>114.5</td>\n",
       "    </tr>\n",
       "  </tbody>\n",
       "</table>\n",
       "</div>"
      ],
      "text/plain": [
       "   Rating  hourly                   Size   Type of ownership  \\\n",
       "0     3.8       0   501 - 1000 employees   Company - Private   \n",
       "1     3.4       0       10000+ employees  Other Organization   \n",
       "2     4.8       0   501 - 1000 employees   Company - Private   \n",
       "3     3.8       0  1001 - 5000 employees          Government   \n",
       "4     2.9       0     51 - 200 employees   Company - Private   \n",
       "\n",
       "                            Revenue  Employer Provided States  same_state  \\\n",
       "0         $50 to $100 million (USD)                  0     NM           0   \n",
       "1            $2 to $5 billion (USD)                  0     MD           0   \n",
       "2        $100 to $500 million (USD)                  0     FL           1   \n",
       "3  $500 million to $1 billion (USD)                  0     WA           1   \n",
       "4          Unknown / Non-Applicable                  0     NY           1   \n",
       "\n",
       "   python_yn  rstudio_yn  SQL_yn  spark_yn  aws_yn        job_simp seniority  \\\n",
       "0          1           0       0         0       0  data scientist        na   \n",
       "1          1           0       0         0       0  data scientist        na   \n",
       "2          1           0       1         1       0  data scientist        na   \n",
       "3          1           0       0         0       0  data scientist        na   \n",
       "4          1           0       1         0       0  data scientist        na   \n",
       "\n",
       "   job_desc  num_comp  avg_salary  \n",
       "0      2536         0        72.0  \n",
       "1      4783         0        87.5  \n",
       "2      3461         0        85.0  \n",
       "3      3883         3        76.5  \n",
       "4      2728         3       114.5  "
      ]
     },
     "execution_count": 61,
     "metadata": {},
     "output_type": "execute_result"
    }
   ],
   "source": [
    "df_model=df[['Rating','hourly',\"Size\",\"Type of ownership\",\"Revenue\",'Employer Provided','States','same_state', 'python_yn',\n",
    "       'rstudio_yn', 'SQL_yn', 'spark_yn', 'aws_yn', 'job_simp', 'seniority',\n",
    "       'job_desc', 'num_comp','avg_salary']]\n",
    "df_model.head()"
   ]
  },
  {
   "cell_type": "code",
   "execution_count": 62,
   "id": "617489c3",
   "metadata": {},
   "outputs": [
    {
     "data": {
      "text/html": [
       "<div>\n",
       "<style scoped>\n",
       "    .dataframe tbody tr th:only-of-type {\n",
       "        vertical-align: middle;\n",
       "    }\n",
       "\n",
       "    .dataframe tbody tr th {\n",
       "        vertical-align: top;\n",
       "    }\n",
       "\n",
       "    .dataframe thead th {\n",
       "        text-align: right;\n",
       "    }\n",
       "</style>\n",
       "<table border=\"1\" class=\"dataframe\">\n",
       "  <thead>\n",
       "    <tr style=\"text-align: right;\">\n",
       "      <th></th>\n",
       "      <th>Rating</th>\n",
       "      <th>hourly</th>\n",
       "      <th>Employer Provided</th>\n",
       "      <th>same_state</th>\n",
       "      <th>python_yn</th>\n",
       "      <th>rstudio_yn</th>\n",
       "      <th>SQL_yn</th>\n",
       "      <th>spark_yn</th>\n",
       "      <th>aws_yn</th>\n",
       "      <th>job_desc</th>\n",
       "      <th>...</th>\n",
       "      <th>job_simp_analyst</th>\n",
       "      <th>job_simp_data scientist</th>\n",
       "      <th>job_simp_director</th>\n",
       "      <th>job_simp_engineer</th>\n",
       "      <th>job_simp_manager</th>\n",
       "      <th>job_simp_mle</th>\n",
       "      <th>job_simp_na</th>\n",
       "      <th>seniority_junior</th>\n",
       "      <th>seniority_na</th>\n",
       "      <th>seniority_senior</th>\n",
       "    </tr>\n",
       "  </thead>\n",
       "  <tbody>\n",
       "    <tr>\n",
       "      <th>0</th>\n",
       "      <td>3.8</td>\n",
       "      <td>0</td>\n",
       "      <td>0</td>\n",
       "      <td>0</td>\n",
       "      <td>1</td>\n",
       "      <td>0</td>\n",
       "      <td>0</td>\n",
       "      <td>0</td>\n",
       "      <td>0</td>\n",
       "      <td>2536</td>\n",
       "      <td>...</td>\n",
       "      <td>0</td>\n",
       "      <td>1</td>\n",
       "      <td>0</td>\n",
       "      <td>0</td>\n",
       "      <td>0</td>\n",
       "      <td>0</td>\n",
       "      <td>0</td>\n",
       "      <td>0</td>\n",
       "      <td>1</td>\n",
       "      <td>0</td>\n",
       "    </tr>\n",
       "    <tr>\n",
       "      <th>1</th>\n",
       "      <td>3.4</td>\n",
       "      <td>0</td>\n",
       "      <td>0</td>\n",
       "      <td>0</td>\n",
       "      <td>1</td>\n",
       "      <td>0</td>\n",
       "      <td>0</td>\n",
       "      <td>0</td>\n",
       "      <td>0</td>\n",
       "      <td>4783</td>\n",
       "      <td>...</td>\n",
       "      <td>0</td>\n",
       "      <td>1</td>\n",
       "      <td>0</td>\n",
       "      <td>0</td>\n",
       "      <td>0</td>\n",
       "      <td>0</td>\n",
       "      <td>0</td>\n",
       "      <td>0</td>\n",
       "      <td>1</td>\n",
       "      <td>0</td>\n",
       "    </tr>\n",
       "    <tr>\n",
       "      <th>2</th>\n",
       "      <td>4.8</td>\n",
       "      <td>0</td>\n",
       "      <td>0</td>\n",
       "      <td>1</td>\n",
       "      <td>1</td>\n",
       "      <td>0</td>\n",
       "      <td>1</td>\n",
       "      <td>1</td>\n",
       "      <td>0</td>\n",
       "      <td>3461</td>\n",
       "      <td>...</td>\n",
       "      <td>0</td>\n",
       "      <td>1</td>\n",
       "      <td>0</td>\n",
       "      <td>0</td>\n",
       "      <td>0</td>\n",
       "      <td>0</td>\n",
       "      <td>0</td>\n",
       "      <td>0</td>\n",
       "      <td>1</td>\n",
       "      <td>0</td>\n",
       "    </tr>\n",
       "    <tr>\n",
       "      <th>3</th>\n",
       "      <td>3.8</td>\n",
       "      <td>0</td>\n",
       "      <td>0</td>\n",
       "      <td>1</td>\n",
       "      <td>1</td>\n",
       "      <td>0</td>\n",
       "      <td>0</td>\n",
       "      <td>0</td>\n",
       "      <td>0</td>\n",
       "      <td>3883</td>\n",
       "      <td>...</td>\n",
       "      <td>0</td>\n",
       "      <td>1</td>\n",
       "      <td>0</td>\n",
       "      <td>0</td>\n",
       "      <td>0</td>\n",
       "      <td>0</td>\n",
       "      <td>0</td>\n",
       "      <td>0</td>\n",
       "      <td>1</td>\n",
       "      <td>0</td>\n",
       "    </tr>\n",
       "    <tr>\n",
       "      <th>4</th>\n",
       "      <td>2.9</td>\n",
       "      <td>0</td>\n",
       "      <td>0</td>\n",
       "      <td>1</td>\n",
       "      <td>1</td>\n",
       "      <td>0</td>\n",
       "      <td>1</td>\n",
       "      <td>0</td>\n",
       "      <td>0</td>\n",
       "      <td>2728</td>\n",
       "      <td>...</td>\n",
       "      <td>0</td>\n",
       "      <td>1</td>\n",
       "      <td>0</td>\n",
       "      <td>0</td>\n",
       "      <td>0</td>\n",
       "      <td>0</td>\n",
       "      <td>0</td>\n",
       "      <td>0</td>\n",
       "      <td>1</td>\n",
       "      <td>0</td>\n",
       "    </tr>\n",
       "  </tbody>\n",
       "</table>\n",
       "<p>5 rows × 93 columns</p>\n",
       "</div>"
      ],
      "text/plain": [
       "   Rating  hourly  Employer Provided  same_state  python_yn  rstudio_yn  \\\n",
       "0     3.8       0                  0           0          1           0   \n",
       "1     3.4       0                  0           0          1           0   \n",
       "2     4.8       0                  0           1          1           0   \n",
       "3     3.8       0                  0           1          1           0   \n",
       "4     2.9       0                  0           1          1           0   \n",
       "\n",
       "   SQL_yn  spark_yn  aws_yn  job_desc  ...  job_simp_analyst  \\\n",
       "0       0         0       0      2536  ...                 0   \n",
       "1       0         0       0      4783  ...                 0   \n",
       "2       1         1       0      3461  ...                 0   \n",
       "3       0         0       0      3883  ...                 0   \n",
       "4       1         0       0      2728  ...                 0   \n",
       "\n",
       "   job_simp_data scientist  job_simp_director  job_simp_engineer  \\\n",
       "0                        1                  0                  0   \n",
       "1                        1                  0                  0   \n",
       "2                        1                  0                  0   \n",
       "3                        1                  0                  0   \n",
       "4                        1                  0                  0   \n",
       "\n",
       "   job_simp_manager  job_simp_mle  job_simp_na  seniority_junior  \\\n",
       "0                 0             0            0                 0   \n",
       "1                 0             0            0                 0   \n",
       "2                 0             0            0                 0   \n",
       "3                 0             0            0                 0   \n",
       "4                 0             0            0                 0   \n",
       "\n",
       "   seniority_na  seniority_senior  \n",
       "0             1                 0  \n",
       "1             1                 0  \n",
       "2             1                 0  \n",
       "3             1                 0  \n",
       "4             1                 0  \n",
       "\n",
       "[5 rows x 93 columns]"
      ]
     },
     "execution_count": 62,
     "metadata": {},
     "output_type": "execute_result"
    }
   ],
   "source": [
    "# Creating dummy variables\n",
    "df_dum=pd.get_dummies(df_model)\n",
    "df_dum.head()"
   ]
  },
  {
   "cell_type": "code",
   "execution_count": 63,
   "id": "c32b0283",
   "metadata": {},
   "outputs": [],
   "source": [
    "# Train test split\n",
    "from sklearn.model_selection import train_test_split\n",
    "X=df_dum.drop(\"avg_salary\",axis=1)\n",
    "y=df_dum[\"avg_salary\"]\n",
    "X_train,X_test,y_train,y_test=train_test_split(X,y,test_size=0.25,random_state=42)"
   ]
  },
  {
   "cell_type": "code",
   "execution_count": 68,
   "id": "51307d1e",
   "metadata": {},
   "outputs": [
    {
     "data": {
      "text/plain": [
       "LinearRegression()"
      ]
     },
     "execution_count": 68,
     "metadata": {},
     "output_type": "execute_result"
    }
   ],
   "source": [
    "# Linear Regression\n",
    "from sklearn.linear_model import LinearRegression,Lasso\n",
    "from sklearn.model_selection import cross_val_score\n",
    "from sklearn.model_selection import KFold\n",
    "\n",
    "lm=LinearRegression()\n",
    "lm.fit(X_train,y_train)"
   ]
  },
  {
   "cell_type": "code",
   "execution_count": 92,
   "id": "f9a06146",
   "metadata": {},
   "outputs": [
    {
     "name": "stdout",
     "output_type": "stream",
     "text": [
      "-20.9592380598874\n"
     ]
    }
   ],
   "source": [
    "# Cross Validation\n",
    "print(cross_val_score(lm,X_train,y_train,scoring=\"neg_mean_absolute_error\",cv=4).mean())"
   ]
  },
  {
   "cell_type": "code",
   "execution_count": 94,
   "id": "1138ccae",
   "metadata": {},
   "outputs": [
    {
     "data": {
      "text/plain": [
       "Lasso()"
      ]
     },
     "execution_count": 94,
     "metadata": {},
     "output_type": "execute_result"
    }
   ],
   "source": [
    "# Lasso Regression\n",
    "lml=Lasso()\n",
    "lml.fit(X_train,y_train)"
   ]
  },
  {
   "cell_type": "code",
   "execution_count": 95,
   "id": "d244cb0f",
   "metadata": {},
   "outputs": [
    {
     "name": "stdout",
     "output_type": "stream",
     "text": [
      "-22.702709558283765\n"
     ]
    }
   ],
   "source": [
    "# Cross Validation\n",
    "print(cross_val_score(lml,X_train,y_train,scoring=\"neg_mean_absolute_error\",cv=4).mean())"
   ]
  },
  {
   "cell_type": "code",
   "execution_count": 96,
   "id": "d8d8ff9f",
   "metadata": {
    "scrolled": true
   },
   "outputs": [
    {
     "data": {
      "text/plain": [
       "(0.0, 0.2)"
      ]
     },
     "execution_count": 96,
     "metadata": {},
     "output_type": "execute_result"
    },
    {
     "data": {
      "image/png": "[encoded data removed]",
      "text/plain": [
       "<Figure size 432x288 with 1 Axes>"
      ]
     },
     "metadata": {
      "needs_background": "light"
     },
     "output_type": "display_data"
    }
   ],
   "source": [
    "# Let's see the error at multiple values of alpha\n",
    "alpha=[]\n",
    "error=[]\n",
    "for i in range(1,100):\n",
    "    alpha.append(i/100)\n",
    "    lmlasso=Lasso(alpha=i/100)\n",
    "    error.append((cross_val_score(lmlasso,X_train,y_train,scoring=\"neg_mean_absolute_error\",cv=4).mean()))\n",
    "plt.plot(alpha,error)\n",
    "plt.xlim((0.0,0.2))\n"
   ]
  },
  {
   "cell_type": "code",
   "execution_count": 97,
   "id": "36959760",
   "metadata": {},
   "outputs": [
    {
     "data": {
      "text/html": [
       "<div>\n",
       "<style scoped>\n",
       "    .dataframe tbody tr th:only-of-type {\n",
       "        vertical-align: middle;\n",
       "    }\n",
       "\n",
       "    .dataframe tbody tr th {\n",
       "        vertical-align: top;\n",
       "    }\n",
       "\n",
       "    .dataframe thead th {\n",
       "        text-align: right;\n",
       "    }\n",
       "</style>\n",
       "<table border=\"1\" class=\"dataframe\">\n",
       "  <thead>\n",
       "    <tr style=\"text-align: right;\">\n",
       "      <th></th>\n",
       "      <th>alpha</th>\n",
       "      <th>error</th>\n",
       "    </tr>\n",
       "  </thead>\n",
       "  <tbody>\n",
       "    <tr>\n",
       "      <th>12</th>\n",
       "      <td>0.13</td>\n",
       "      <td>-20.81969</td>\n",
       "    </tr>\n",
       "  </tbody>\n",
       "</table>\n",
       "</div>"
      ],
      "text/plain": [
       "    alpha     error\n",
       "12   0.13 -20.81969"
      ]
     },
     "execution_count": 97,
     "metadata": {},
     "output_type": "execute_result"
    }
   ],
   "source": [
    "# Let's find the alpha value that has the least error \n",
    "err=tuple(zip(alpha,error))\n",
    "df_err=pd.DataFrame(err,columns=[\"alpha\",\"error\"])\n",
    "df_err[df_err[\"error\"]==df_err[\"error\"].max()]"
   ]
  },
  {
   "cell_type": "code",
   "execution_count": 98,
   "id": "28763a55",
   "metadata": {},
   "outputs": [
    {
     "data": {
      "text/plain": [
       "RandomForestRegressor()"
      ]
     },
     "execution_count": 98,
     "metadata": {},
     "output_type": "execute_result"
    }
   ],
   "source": [
    "# Random Forest\n",
    "from sklearn.ensemble import RandomForestRegressor\n",
    "rf=RandomForestRegressor()\n",
    "rf.fit(X_train,y_train)"
   ]
  },
  {
   "cell_type": "code",
   "execution_count": 100,
   "id": "1b094735",
   "metadata": {},
   "outputs": [
    {
     "name": "stdout",
     "output_type": "stream",
     "text": [
      "-16.27223021582734\n"
     ]
    }
   ],
   "source": [
    "# Cross validation score\n",
    "print(cross_val_score(rf,X_train,y_train,scoring=\"neg_mean_absolute_error\",cv=4).mean())"
   ]
  },
  {
   "cell_type": "code",
   "execution_count": 122,
   "id": "379ea86b",
   "metadata": {},
   "outputs": [
    {
     "data": {
      "text/plain": [
       "GridSearchCV(cv=4, estimator=RandomForestRegressor(),\n",
       "             param_grid={'criterion': ('mse', 'mae'),\n",
       "                         'max_features': ('sqrt', 'auto', 'log2'),\n",
       "                         'n_estimators': range(10, 300, 10)},\n",
       "             scoring='neg_mean_absolute_error')"
      ]
     },
     "execution_count": 122,
     "metadata": {},
     "output_type": "execute_result"
    }
   ],
   "source": [
    "# Tuning Random Forest model with GridSearch\n",
    "from sklearn.model_selection import GridSearchCV\n",
    "param_grid = parameters = {\"n_estimators\":range(10,300,10),\"criterion\":('mse', 'mae'), \"max_features\":(\"sqrt\",\"auto\",\"log2\")}\n",
    "GS_rf = GridSearchCV(estimator=rf, param_grid=param_grid,scoring=\"neg_mean_absolute_error\", cv= 4)\n",
    "GS_rf.fit(X_train, y_train)"
   ]
  },
  {
   "cell_type": "code",
   "execution_count": 123,
   "id": "daf2b15f",
   "metadata": {},
   "outputs": [
    {
     "data": {
      "text/plain": [
       "{'criterion': 'mse', 'max_features': 'sqrt', 'n_estimators': 230}"
      ]
     },
     "execution_count": 123,
     "metadata": {},
     "output_type": "execute_result"
    }
   ],
   "source": [
    "# Finding best parameters\n",
    "GS_rf.best_params_"
   ]
  },
  {
   "cell_type": "code",
   "execution_count": 124,
   "id": "13107ced",
   "metadata": {},
   "outputs": [
    {
     "data": {
      "text/plain": [
       "RandomForestRegressor(max_features='sqrt', n_estimators=230)"
      ]
     },
     "execution_count": 124,
     "metadata": {},
     "output_type": "execute_result"
    }
   ],
   "source": [
    "# Fitting new \n",
    "rcf=RandomForestRegressor(n_estimators=230,max_features=\"sqrt\",criterion=\"mse\")\n",
    "rcf.fit(X_train,y_train)"
   ]
  },
  {
   "cell_type": "code",
   "execution_count": 125,
   "id": "85f8a3da",
   "metadata": {},
   "outputs": [
    {
     "name": "stdout",
     "output_type": "stream",
     "text": [
      "-15.74726696903347\n"
     ]
    }
   ],
   "source": [
    "print(cross_val_score(rcf,X_train,y_train,scoring=\"neg_mean_absolute_error\",cv=4).mean())"
   ]
  },
  {
   "cell_type": "code",
   "execution_count": 128,
   "id": "a7e7379d",
   "metadata": {},
   "outputs": [
    {
     "data": {
      "text/plain": [
       "19.96396605185821"
      ]
     },
     "execution_count": 128,
     "metadata": {},
     "output_type": "execute_result"
    }
   ],
   "source": [
    "#GridSearch tuned model\n",
    "prediction=rcf.predict(X_test)\n",
    "from sklearn.metrics import mean_squared_error\n",
    "mean_squared_error(y_test,prediction,squared=False)"
   ]
  },
  {
   "cell_type": "code",
   "execution_count": 121,
   "id": "d2fbf3f3",
   "metadata": {},
   "outputs": [
    {
     "data": {
      "text/plain": [
       "12.07266129032258"
      ]
     },
     "execution_count": 121,
     "metadata": {},
     "output_type": "execute_result"
    }
   ],
   "source": [
    "# Let's use root mean squared error to evaluate because it will keep the y unit the same.\n",
    "rc_pred=rf.predict(X_test)\n",
    "mean_absolute_error(y_test,rc_pred)"
   ]
  },
  {
   "cell_type": "markdown",
   "id": "bee1a702",
   "metadata": {},
   "source": [
    "Using Random Forest and Tuning it with GridSearch, I was able to get a root_mean_absolute error score of 12.07 meaning that my predictions is off the actual values of salaries by 12K which I think is pretty reasonable. "
   ]
  }
 ],
 "metadata": {
  "kernelspec": {
   "display_name": "Python 3",
   "language": "python",
   "name": "python3"
  },
  "language_info": {
   "codemirror_mode": {
    "name": "ipython",
    "version": 3
   },
   "file_extension": ".py",
   "mimetype": "text/x-python",
   "name": "python",
   "nbconvert_exporter": "python",
   "pygments_lexer": "ipython3",
   "version": "3.8.8"
  }
 },
 "nbformat": 4,
 "nbformat_minor": 5
}
